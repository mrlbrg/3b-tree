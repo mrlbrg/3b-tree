{
 "cells": [
  {
   "cell_type": "markdown",
   "metadata": {},
   "source": [
    "Connected to .venv (Python 3.13.7)"
   ]
  },
  {
   "cell_type": "code",
   "execution_count": 1,
   "id": "a63e50d1",
   "metadata": {},
   "outputs": [],
   "source": [
    "import pandas as pd\n",
    "import numpy as np"
   ]
  },
  {
   "cell_type": "code",
   "execution_count": 2,
   "id": "06bc2000",
   "metadata": {},
   "outputs": [
    {
     "name": "stdout",
     "output_type": "stream",
     "text": [
      "Total views: 16,115,693\n"
     ]
    }
   ],
   "source": [
    "filename = \"pageviews-hourly-20251001-000000.gz\"\n",
    "\n",
    "df = pd.read_csv(\n",
    "    filename,\n",
    "    sep=\" \",  # space-separated\n",
    "    header=None,  # no header in file\n",
    "    names=[\"project\", \"page_title\", \"views\", \"bytes\"],  # column names\n",
    "    dtype={\"project\": str, \"page_title\": str, \"views\": int, \"bytes\": int},\n",
    "    compression=\"gzip\",  # read directly from .gz\n",
    "    engine=\"c\",  # faster parsing\n",
    ")\n",
    "print(f\"Total views: {df['views'].sum():,}\")"
   ]
  },
  {
   "cell_type": "code",
   "execution_count": 3,
   "id": "9b6125d6",
   "metadata": {},
   "outputs": [
    {
     "name": "stdout",
     "output_type": "stream",
     "text": [
      "Filtered to 1184804 English Wikipedia pages\n",
      "Total views: 3,092,228\n",
      "        row_number project                                         page_title  \\\n",
      "520115           1      en                                                 !!   \n",
      "520116           2      en                                                !!!   \n",
      "520117           3      en                                           !DOCTYPE   \n",
      "520118           4      en                                      !Xóõ_language   \n",
      "520119           5      en                                              \\&\\\"\"   \n",
      "520120           6      en                                  \\21_Azer\\\"_Medal\"   \n",
      "520121           7      en                                       \\A\\\"_Device\"   \n",
      "520122           8      en                                 \\A\\\"_Is_for_Alibi\"   \n",
      "520123           9      en  \\Air\\\"_from_Johann_Sebastian_Bach's_Orchestral...   \n",
      "520124          10      en                               \\Awaken,_My_Love!\\\"\"   \n",
      "\n",
      "        views  bytes  \n",
      "520115      1      0  \n",
      "520116      5      0  \n",
      "520117      1      0  \n",
      "520118      1      0  \n",
      "520119      1      0  \n",
      "520120      1      0  \n",
      "520121      1      0  \n",
      "520122      2      0  \n",
      "520123      1      0  \n",
      "520124      4      0  \n"
     ]
    }
   ],
   "source": [
    "# --- Step 1: Keep only English articles --------------------------------------\n",
    "df = df[df[\"project\"] == \"en\"]\n",
    "df.reset_index(drop=True)\n",
    "df.insert(0, \"row_number\", range(1, len(df) + 1))\n",
    "print(f\"Filtered to {len(df)} English Wikipedia pages\")\n",
    "print(f\"Total views: {df['views'].sum():,}\")\n",
    "print(df.head(10))"
   ]
  },
  {
   "cell_type": "code",
   "execution_count": 4,
   "id": "23ff32c4",
   "metadata": {},
   "outputs": [
    {
     "name": "stdout",
     "output_type": "stream",
     "text": [
      "✅ Saved English-only dataset: pageviews_en.csv\n"
     ]
    }
   ],
   "source": [
    "# Save filtered English dataset\n",
    "df.to_csv(\"pageviews_en.csv\", index=False)\n",
    "print(\"✅ Saved English-only dataset: pageviews_en.csv\")"
   ]
  },
  {
   "cell_type": "code",
   "execution_count": 6,
   "id": "9766d8ab",
   "metadata": {},
   "outputs": [
    {
     "name": "stdout",
     "output_type": "stream",
     "text": [
      "         row_number project                             page_title  views  \\\n",
      "1069906      549792      en                            Jon_Stewart   2998   \n",
      "1512331      992217      en                Talk:Digital_humanities    504   \n",
      "1516988      996874      en                    Talk:Saint_Boniface    408   \n",
      "1517356      997242      en          Talk:Somatic_symptom_disorder    372   \n",
      "737296       217182      en          Category:Redirects_from_moves    336   \n",
      "...             ...     ...                                    ...    ...   \n",
      "1426209      906095      en                          Santanaraptor      1   \n",
      "1553406     1033292      en                    The_Mystery_of_Time      1   \n",
      "725328       205214      en  Category:Bayelsa_United_F.C._managers      1   \n",
      "1425917      905803      en               Santa_Fe_Group_(geology)      1   \n",
      "1231870      711756      en                            Millî_Görüş      1   \n",
      "\n",
      "         bytes  \n",
      "1069906      0  \n",
      "1512331      0  \n",
      "1516988      0  \n",
      "1517356      0  \n",
      "737296       0  \n",
      "...        ...  \n",
      "1426209      0  \n",
      "1553406      0  \n",
      "725328       0  \n",
      "1425917      0  \n",
      "1231870      0  \n",
      "\n",
      "[47392 rows x 5 columns]\n",
      "Total keys in sample: 47392\n",
      "Total views in sample: 118,013\n"
     ]
    }
   ],
   "source": [
    "# --- Step 2: Sample articles ---------------------------------\n",
    "sample_fraction = 0.04  # adjust as needed (e.g., 0.05 = 5%)\n",
    "df_sample = df.sample(frac=sample_fraction, random_state=42)\n",
    "df_sample.sort_values(by=\"views\", ascending=False, inplace=True)\n",
    "print(df_sample)\n",
    "print(f\"Total keys in sample: {len(df_sample)}\")\n",
    "print(f\"Total views in sample: {df_sample['views'].sum():,}\")"
   ]
  },
  {
   "cell_type": "code",
   "execution_count": 7,
   "id": "615f12b5",
   "metadata": {},
   "outputs": [],
   "source": [
    "df_sample.to_csv(f\"pageviews_en_sample_{int(sample_fraction*100)}.csv\", index=False)"
   ]
  },
  {
   "cell_type": "code",
   "execution_count": 2,
   "id": "151be35f",
   "metadata": {},
   "outputs": [
    {
     "name": "stdout",
     "output_type": "stream",
     "text": [
      "   row_number project                     page_title  views  bytes\n",
      "0      549792      en                    Jon_Stewart   2998      0\n",
      "1      992217      en        Talk:Digital_humanities    504      0\n",
      "2      996874      en            Talk:Saint_Boniface    408      0\n",
      "3      997242      en  Talk:Somatic_symptom_disorder    372      0\n",
      "4      217182      en  Category:Redirects_from_moves    336      0\n",
      "Loaded 59,240 rows.\n"
     ]
    }
   ],
   "source": [
    "# Start from here to generate operations but keep the 5% sample.\n",
    "df_sample = pd.read_csv(\"pageviews_en_sample_5.csv\")\n",
    "print(df_sample.head())\n",
    "print(f\"Loaded {len(df_sample):,} rows.\")"
   ]
  },
  {
   "cell_type": "code",
   "execution_count": 3,
   "id": "218c88cf",
   "metadata": {},
   "outputs": [
    {
     "name": "stdout",
     "output_type": "stream",
     "text": [
      "Generated 146,068 total operations (1 per view)\n"
     ]
    }
   ],
   "source": [
    "# --- Step 4: Create one operation per view ------------------------------------\n",
    "# Efficiently repeat rows by the 'views' column\n",
    "ops = df_sample.loc[\n",
    "    df_sample.index.repeat(df_sample[\"views\"]), [\"row_number\", \"page_title\"]\n",
    "].reset_index(drop=True)\n",
    "print(f\"Generated {len(ops):,} total operations (1 per view)\")"
   ]
  },
  {
   "cell_type": "code",
   "execution_count": 21,
   "id": "c90ce76a",
   "metadata": {},
   "outputs": [
    {
     "name": "stdout",
     "output_type": "stream",
     "text": [
      "Assigned 146,068 updates (100.00%)\n"
     ]
    }
   ],
   "source": [
    "# --- Step 5: Randomly turn 100% of lookups into updates --------------------------\n",
    "n_ops = len(ops)\n",
    "updates_fraction = 1.0  # 100% updates\n",
    "n_updates = int(updates_fraction * n_ops)\n",
    "\n",
    "rng = np.random.default_rng(seed=42)\n",
    "update_indices = rng.choice(n_ops, size=n_updates, replace=False)\n",
    "\n",
    "ops[\"op_type\"] = \"lookup\"\n",
    "ops.loc[update_indices, \"op_type\"] = \"update\"\n",
    "print(f\"Assigned {n_updates:,} updates ({100*n_updates/n_ops:.2f}%)\")"
   ]
  },
  {
   "cell_type": "code",
   "execution_count": 22,
   "id": "7e7136aa",
   "metadata": {},
   "outputs": [
    {
     "data": {
      "text/html": [
       "<div>\n",
       "<style scoped>\n",
       "    .dataframe tbody tr th:only-of-type {\n",
       "        vertical-align: middle;\n",
       "    }\n",
       "\n",
       "    .dataframe tbody tr th {\n",
       "        vertical-align: top;\n",
       "    }\n",
       "\n",
       "    .dataframe thead th {\n",
       "        text-align: right;\n",
       "    }\n",
       "</style>\n",
       "<table border=\"1\" class=\"dataframe\">\n",
       "  <thead>\n",
       "    <tr style=\"text-align: right;\">\n",
       "      <th></th>\n",
       "      <th>row_number</th>\n",
       "      <th>page_title</th>\n",
       "      <th>op_type</th>\n",
       "    </tr>\n",
       "  </thead>\n",
       "  <tbody>\n",
       "    <tr>\n",
       "      <th>0</th>\n",
       "      <td>61906</td>\n",
       "      <td>Adria_Arjona</td>\n",
       "      <td>update</td>\n",
       "    </tr>\n",
       "    <tr>\n",
       "      <th>1</th>\n",
       "      <td>532228</td>\n",
       "      <td>Jeep_Wagoneer_S</td>\n",
       "      <td>update</td>\n",
       "    </tr>\n",
       "    <tr>\n",
       "      <th>2</th>\n",
       "      <td>848682</td>\n",
       "      <td>Quinten_Timber</td>\n",
       "      <td>update</td>\n",
       "    </tr>\n",
       "    <tr>\n",
       "      <th>3</th>\n",
       "      <td>334830</td>\n",
       "      <td>Edward_Scissorhands</td>\n",
       "      <td>update</td>\n",
       "    </tr>\n",
       "    <tr>\n",
       "      <th>4</th>\n",
       "      <td>61275</td>\n",
       "      <td>Administrative_division</td>\n",
       "      <td>update</td>\n",
       "    </tr>\n",
       "    <tr>\n",
       "      <th>...</th>\n",
       "      <td>...</td>\n",
       "      <td>...</td>\n",
       "      <td>...</td>\n",
       "    </tr>\n",
       "    <tr>\n",
       "      <th>146063</th>\n",
       "      <td>1031454</td>\n",
       "      <td>The_Lucy–Desi_Comedy_Hour</td>\n",
       "      <td>update</td>\n",
       "    </tr>\n",
       "    <tr>\n",
       "      <th>146064</th>\n",
       "      <td>801167</td>\n",
       "      <td>Patrilineality</td>\n",
       "      <td>update</td>\n",
       "    </tr>\n",
       "    <tr>\n",
       "      <th>146065</th>\n",
       "      <td>886139</td>\n",
       "      <td>Roth_IRA</td>\n",
       "      <td>update</td>\n",
       "    </tr>\n",
       "    <tr>\n",
       "      <th>146066</th>\n",
       "      <td>69682</td>\n",
       "      <td>Al-Qassam_Brigades</td>\n",
       "      <td>update</td>\n",
       "    </tr>\n",
       "    <tr>\n",
       "      <th>146067</th>\n",
       "      <td>261363</td>\n",
       "      <td>Comte_de_Rochefort</td>\n",
       "      <td>update</td>\n",
       "    </tr>\n",
       "  </tbody>\n",
       "</table>\n",
       "<p>146068 rows × 3 columns</p>\n",
       "</div>"
      ],
      "text/plain": [
       "        row_number                 page_title op_type\n",
       "0            61906               Adria_Arjona  update\n",
       "1           532228            Jeep_Wagoneer_S  update\n",
       "2           848682             Quinten_Timber  update\n",
       "3           334830        Edward_Scissorhands  update\n",
       "4            61275    Administrative_division  update\n",
       "...            ...                        ...     ...\n",
       "146063     1031454  The_Lucy–Desi_Comedy_Hour  update\n",
       "146064      801167             Patrilineality  update\n",
       "146065      886139                   Roth_IRA  update\n",
       "146066       69682         Al-Qassam_Brigades  update\n",
       "146067      261363         Comte_de_Rochefort  update\n",
       "\n",
       "[146068 rows x 3 columns]"
      ]
     },
     "execution_count": 22,
     "metadata": {},
     "output_type": "execute_result"
    }
   ],
   "source": [
    "# --- Step 6: Shuffle operations -----------------------------------------------\n",
    "ops = ops.sample(frac=1, random_state=42).reset_index(drop=True)\n",
    "ops"
   ]
  },
  {
   "cell_type": "code",
   "execution_count": 10,
   "id": "1504456d",
   "metadata": {},
   "outputs": [],
   "source": [
    "# --- Step 7: Change first occurrence per page_title to insert -----------------\n",
    "# first_indices = ops.drop_duplicates(subset=\"page_title\", keep=\"first\").index\n",
    "# ops.loc[first_indices, \"op_type\"] = \"insert\"\n",
    "# print(f\"Changed {len(first_indices):,} first accesses to inserts\")"
   ]
  },
  {
   "cell_type": "code",
   "execution_count": 23,
   "id": "e9879e19",
   "metadata": {},
   "outputs": [
    {
     "name": "stdout",
     "output_type": "stream",
     "text": [
      "✅ Saved operations dataset: operations_en_sample_5_100.csv\n",
      "Contains 146,068 operations (1 per view), with 146,068 updates (100.00%)\n"
     ]
    }
   ],
   "source": [
    "ops.to_csv(\n",
    "    f\"operations_en_sample_5_{int(updates_fraction * 100)}.csv\",\n",
    "    index=False,\n",
    ")\n",
    "print(f\"✅ Saved operations dataset: operations_en_sample_5_{int(updates_fraction * 100)}.csv\")\n",
    "print(f\"Contains {len(ops):,} operations (1 per view), with {n_updates:,} updates ({100*n_updates/n_ops:.2f}%)\")"
   ]
  },
  {
   "cell_type": "code",
   "execution_count": 12,
   "id": "f70d1725",
   "metadata": {},
   "outputs": [
    {
     "name": "stdout",
     "output_type": "stream",
     "text": [
      "40670\n"
     ]
    }
   ],
   "source": [
    "print((df_sample['views'] == 1).sum())"
   ]
  },
  {
   "cell_type": "code",
   "execution_count": 13,
   "id": "b45d9b78",
   "metadata": {},
   "outputs": [
    {
     "name": "stdout",
     "output_type": "stream",
     "text": [
      "Page title lengths - Avg: 20.54, Max: 236, Min: 1\n"
     ]
    }
   ],
   "source": [
    "# Compute string lengths\n",
    "lengths = df_sample[\"page_title\"].str.len()\n",
    "\n",
    "# Calculate stats\n",
    "avg_length = lengths.mean()\n",
    "max_length = lengths.max()\n",
    "min_length = lengths.min()\n",
    "print(f\"Page title lengths - Avg: {avg_length:.2f}, Max: {max_length}, Min: {min_length}\")"
   ]
  },
  {
   "cell_type": "code",
   "execution_count": 39,
   "id": "5165a57a",
   "metadata": {},
   "outputs": [],
   "source": [
    "# Load operations from file if needed \n",
    "ops = pd.read_csv(\"operations_en_sample_5_100.csv\")"
   ]
  },
  {
   "cell_type": "code",
   "execution_count": 40,
   "id": "068dbaff",
   "metadata": {},
   "outputs": [
    {
     "name": "stdout",
     "output_type": "stream",
     "text": [
      "Unique titles updated: 59240\n"
     ]
    }
   ],
   "source": [
    "updated_titles = ops.loc[ops[\"op_type\"] == \"update\", \"page_title\"].unique()\n",
    "print(f\"Unique titles updated: {len(updated_titles)}\")"
   ]
  },
  {
   "cell_type": "code",
   "execution_count": 25,
   "id": "557af4f2",
   "metadata": {},
   "outputs": [
    {
     "name": "stdout",
     "output_type": "stream",
     "text": [
      "page_title\n",
      "Jon_Stewart                                                 2998\n",
      "Talk:Digital_humanities                                      504\n",
      "Talk:Saint_Boniface                                          408\n",
      "Talk:Somatic_symptom_disorder                                372\n",
      "Category:Redirects_from_moves                                336\n",
      "                                                            ... \n",
      "Clionella_halistrepta                                          1\n",
      "2011-12_West_Virginia_Mountaineers_men's_basketball_team       1\n",
      "BlackBerry_Electron                                            1\n",
      "Georgia_Central_Railway                                        1\n",
      "Comte_de_Rochefort                                             1\n",
      "Name: count, Length: 59240, dtype: int64\n"
     ]
    }
   ],
   "source": [
    "update_counts = ops[ops[\"op_type\"] == \"update\"][\"page_title\"].value_counts()\n",
    "print(update_counts)"
   ]
  },
  {
   "cell_type": "code",
   "execution_count": 26,
   "id": "ca927ca9",
   "metadata": {},
   "outputs": [
    {
     "name": "stdout",
     "output_type": "stream",
     "text": [
      "Number of page_titles with exactly one update: 40670\n"
     ]
    }
   ],
   "source": [
    "num_one_update = (update_counts == 1).sum()\n",
    "print(f\"Number of page_titles with exactly one update: {num_one_update}\")"
   ]
  },
  {
   "cell_type": "code",
   "execution_count": null,
   "id": "5bcb073b",
   "metadata": {},
   "outputs": [],
   "source": []
  }
 ],
 "metadata": {
  "kernelspec": {
   "display_name": "venv",
   "language": "python",
   "name": "python3"
  },
  "language_info": {
   "codemirror_mode": {
    "name": "ipython",
    "version": 3
   },
   "file_extension": ".py",
   "mimetype": "text/x-python",
   "name": "python",
   "nbconvert_exporter": "python",
   "pygments_lexer": "ipython3",
   "version": "3.13.7"
  }
 },
 "nbformat": 4,
 "nbformat_minor": 5
}
