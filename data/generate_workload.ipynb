{
 "cells": [
  {
   "cell_type": "markdown",
   "metadata": {},
   "source": [
    "Connected to .venv (Python 3.13.7)"
   ]
  },
  {
   "cell_type": "code",
   "execution_count": 1,
   "id": "a63e50d1",
   "metadata": {},
   "outputs": [],
   "source": [
    "import pandas as pd\n",
    "import numpy as np"
   ]
  },
  {
   "cell_type": "code",
   "execution_count": 2,
   "id": "06bc2000",
   "metadata": {},
   "outputs": [
    {
     "name": "stdout",
     "output_type": "stream",
     "text": [
      "Total views: 16,115,693\n"
     ]
    }
   ],
   "source": [
    "filename = \"pageviews-hourly-20251001-000000.gz\"\n",
    "\n",
    "df = pd.read_csv(\n",
    "    filename,\n",
    "    sep=\" \",  # space-separated\n",
    "    header=None,  # no header in file\n",
    "    names=[\"project\", \"page_title\", \"views\", \"bytes\"],  # column names\n",
    "    dtype={\"project\": str, \"page_title\": str, \"views\": int, \"bytes\": int},\n",
    "    compression=\"gzip\",  # read directly from .gz\n",
    "    engine=\"c\",  # faster parsing\n",
    ")\n",
    "print(f\"Total views: {df['views'].sum():,}\")"
   ]
  },
  {
   "cell_type": "code",
   "execution_count": 3,
   "id": "9b6125d6",
   "metadata": {},
   "outputs": [
    {
     "name": "stdout",
     "output_type": "stream",
     "text": [
      "Filtered to 1184804 English Wikipedia pages\n",
      "Total views: 3,092,228\n",
      "        row_number project                                         page_title  \\\n",
      "520115           1      en                                                 !!   \n",
      "520116           2      en                                                !!!   \n",
      "520117           3      en                                           !DOCTYPE   \n",
      "520118           4      en                                      !Xóõ_language   \n",
      "520119           5      en                                              \\&\\\"\"   \n",
      "520120           6      en                                  \\21_Azer\\\"_Medal\"   \n",
      "520121           7      en                                       \\A\\\"_Device\"   \n",
      "520122           8      en                                 \\A\\\"_Is_for_Alibi\"   \n",
      "520123           9      en  \\Air\\\"_from_Johann_Sebastian_Bach's_Orchestral...   \n",
      "520124          10      en                               \\Awaken,_My_Love!\\\"\"   \n",
      "\n",
      "        views  bytes  \n",
      "520115      1      0  \n",
      "520116      5      0  \n",
      "520117      1      0  \n",
      "520118      1      0  \n",
      "520119      1      0  \n",
      "520120      1      0  \n",
      "520121      1      0  \n",
      "520122      2      0  \n",
      "520123      1      0  \n",
      "520124      4      0  \n"
     ]
    }
   ],
   "source": [
    "# --- Step 1: Keep only English articles --------------------------------------\n",
    "df = df[df[\"project\"] == \"en\"]\n",
    "df.reset_index(drop=True)\n",
    "df.insert(0, \"row_number\", range(1, len(df) + 1))\n",
    "print(f\"Filtered to {len(df)} English Wikipedia pages\")\n",
    "print(f\"Total views: {df['views'].sum():,}\")\n",
    "print(df.head(10))"
   ]
  },
  {
   "cell_type": "code",
   "execution_count": 4,
   "id": "23ff32c4",
   "metadata": {},
   "outputs": [
    {
     "name": "stdout",
     "output_type": "stream",
     "text": [
      "✅ Saved English-only dataset: pageviews_en.csv\n"
     ]
    }
   ],
   "source": [
    "# Save filtered English dataset\n",
    "df.to_csv(\"pageviews_en.csv\", index=False)\n",
    "print(\"✅ Saved English-only dataset: pageviews_en.csv\")"
   ]
  },
  {
   "cell_type": "code",
   "execution_count": 5,
   "id": "9766d8ab",
   "metadata": {},
   "outputs": [
    {
     "name": "stdout",
     "output_type": "stream",
     "text": [
      "         row_number project                     page_title  views  bytes\n",
      "1069906      549792      en                    Jon_Stewart   2998      0\n",
      "1512331      992217      en        Talk:Digital_humanities    504      0\n",
      "1516988      996874      en            Talk:Saint_Boniface    408      0\n",
      "1517356      997242      en  Talk:Somatic_symptom_disorder    372      0\n",
      "737296       217182      en  Category:Redirects_from_moves    336      0\n",
      "...             ...     ...                            ...    ...    ...\n",
      "651360       131246      en                 Bare,_Kraljevo      1      0\n",
      "749853       229739      en              Channa_(Buddhist)      1      0\n",
      "1424654      904540      en                  Sandamarutham      1      0\n",
      "719227       199113      en  Cassius_Clay_vs._Henry_Cooper      1      0\n",
      "527447         7333      en                    1947_Tonies      1      0\n",
      "\n",
      "[59240 rows x 5 columns]\n",
      "Total keys in sample: 59240\n",
      "Total views in sample: 146,068\n"
     ]
    }
   ],
   "source": [
    "# --- Step 2: Sample articles ---------------------------------\n",
    "sample_fraction = 0.05  # adjust as needed (e.g., 0.05 = 5%)\n",
    "df_sample = df.sample(frac=sample_fraction, random_state=42)\n",
    "df_sample.sort_values(by=\"views\", ascending=False, inplace=True)\n",
    "print(df_sample)\n",
    "print(f\"Total keys in sample: {len(df_sample)}\")\n",
    "print(f\"Total views in sample: {df_sample['views'].sum():,}\")"
   ]
  },
  {
   "cell_type": "code",
   "execution_count": 6,
   "id": "615f12b5",
   "metadata": {},
   "outputs": [],
   "source": [
    "df_sample.to_csv(\"pageviews_en_sample_5.csv\", index=False)"
   ]
  },
  {
   "cell_type": "code",
   "execution_count": 7,
   "id": "218c88cf",
   "metadata": {},
   "outputs": [
    {
     "name": "stdout",
     "output_type": "stream",
     "text": [
      "Generated 146,068 total operations (1 per view)\n"
     ]
    }
   ],
   "source": [
    "# --- Step 4: Create one operation per view ------------------------------------\n",
    "# Efficiently repeat rows by the 'views' column\n",
    "ops = df_sample.loc[\n",
    "    df_sample.index.repeat(df_sample[\"views\"]), [\"row_number\", \"page_title\"]\n",
    "].reset_index(drop=True)\n",
    "print(f\"Generated {len(ops):,} total operations (1 per view)\")"
   ]
  },
  {
   "cell_type": "code",
   "execution_count": 8,
   "id": "c90ce76a",
   "metadata": {},
   "outputs": [
    {
     "name": "stdout",
     "output_type": "stream",
     "text": [
      "Assigned 7,303 updates (5.00%)\n"
     ]
    }
   ],
   "source": [
    "# --- Step 5: Randomly turn 5% of lookups into updates --------------------------\n",
    "n_ops = len(ops)\n",
    "n_updates = int(0.05 * n_ops)\n",
    "\n",
    "rng = np.random.default_rng(seed=42)\n",
    "update_indices = rng.choice(n_ops, size=n_updates, replace=False)\n",
    "\n",
    "ops[\"op_type\"] = \"lookup\"\n",
    "ops.loc[update_indices, \"op_type\"] = \"update\"\n",
    "print(f\"Assigned {n_updates:,} updates ({100*n_updates/n_ops:.2f}%)\")"
   ]
  },
  {
   "cell_type": "code",
   "execution_count": 9,
   "id": "7e7136aa",
   "metadata": {},
   "outputs": [
    {
     "data": {
      "text/html": [
       "<div>\n",
       "<style scoped>\n",
       "    .dataframe tbody tr th:only-of-type {\n",
       "        vertical-align: middle;\n",
       "    }\n",
       "\n",
       "    .dataframe tbody tr th {\n",
       "        vertical-align: top;\n",
       "    }\n",
       "\n",
       "    .dataframe thead th {\n",
       "        text-align: right;\n",
       "    }\n",
       "</style>\n",
       "<table border=\"1\" class=\"dataframe\">\n",
       "  <thead>\n",
       "    <tr style=\"text-align: right;\">\n",
       "      <th></th>\n",
       "      <th>row_number</th>\n",
       "      <th>page_title</th>\n",
       "      <th>op_type</th>\n",
       "    </tr>\n",
       "  </thead>\n",
       "  <tbody>\n",
       "    <tr>\n",
       "      <th>0</th>\n",
       "      <td>593820</td>\n",
       "      <td>Lafferty</td>\n",
       "      <td>lookup</td>\n",
       "    </tr>\n",
       "    <tr>\n",
       "      <th>1</th>\n",
       "      <td>41148</td>\n",
       "      <td>28_Years_Later</td>\n",
       "      <td>lookup</td>\n",
       "    </tr>\n",
       "    <tr>\n",
       "      <th>2</th>\n",
       "      <td>410947</td>\n",
       "      <td>Future_Imagery_Architecture</td>\n",
       "      <td>lookup</td>\n",
       "    </tr>\n",
       "    <tr>\n",
       "      <th>3</th>\n",
       "      <td>488054</td>\n",
       "      <td>Hugh_the_Great</td>\n",
       "      <td>lookup</td>\n",
       "    </tr>\n",
       "    <tr>\n",
       "      <th>4</th>\n",
       "      <td>443225</td>\n",
       "      <td>Greek_fire</td>\n",
       "      <td>lookup</td>\n",
       "    </tr>\n",
       "    <tr>\n",
       "      <th>...</th>\n",
       "      <td>...</td>\n",
       "      <td>...</td>\n",
       "      <td>...</td>\n",
       "    </tr>\n",
       "    <tr>\n",
       "      <th>146063</th>\n",
       "      <td>496559</td>\n",
       "      <td>I_Want_You_(Janet_Jackson_song)</td>\n",
       "      <td>lookup</td>\n",
       "    </tr>\n",
       "    <tr>\n",
       "      <th>146064</th>\n",
       "      <td>1106490</td>\n",
       "      <td>Upazila_of_Bangladesh</td>\n",
       "      <td>lookup</td>\n",
       "    </tr>\n",
       "    <tr>\n",
       "      <th>146065</th>\n",
       "      <td>873146</td>\n",
       "      <td>Right_Round</td>\n",
       "      <td>lookup</td>\n",
       "    </tr>\n",
       "    <tr>\n",
       "      <th>146066</th>\n",
       "      <td>290674</td>\n",
       "      <td>David_Eberhardt</td>\n",
       "      <td>lookup</td>\n",
       "    </tr>\n",
       "    <tr>\n",
       "      <th>146067</th>\n",
       "      <td>1132487</td>\n",
       "      <td>WOWK-TV</td>\n",
       "      <td>lookup</td>\n",
       "    </tr>\n",
       "  </tbody>\n",
       "</table>\n",
       "<p>146068 rows × 3 columns</p>\n",
       "</div>"
      ],
      "text/plain": [
       "        row_number                       page_title op_type\n",
       "0           593820                         Lafferty  lookup\n",
       "1            41148                   28_Years_Later  lookup\n",
       "2           410947      Future_Imagery_Architecture  lookup\n",
       "3           488054                   Hugh_the_Great  lookup\n",
       "4           443225                       Greek_fire  lookup\n",
       "...            ...                              ...     ...\n",
       "146063      496559  I_Want_You_(Janet_Jackson_song)  lookup\n",
       "146064     1106490            Upazila_of_Bangladesh  lookup\n",
       "146065      873146                      Right_Round  lookup\n",
       "146066      290674                  David_Eberhardt  lookup\n",
       "146067     1132487                          WOWK-TV  lookup\n",
       "\n",
       "[146068 rows x 3 columns]"
      ]
     },
     "execution_count": 9,
     "metadata": {},
     "output_type": "execute_result"
    }
   ],
   "source": [
    "# --- Step 6: Shuffle operations -----------------------------------------------\n",
    "ops = ops.sample(frac=1, random_state=42).reset_index(drop=True)\n",
    "ops"
   ]
  },
  {
   "cell_type": "code",
   "execution_count": 10,
   "id": "1504456d",
   "metadata": {},
   "outputs": [],
   "source": [
    "# --- Step 7: Change first occurrence per page_title to insert -----------------\n",
    "# first_indices = ops.drop_duplicates(subset=\"page_title\", keep=\"first\").index\n",
    "# ops.loc[first_indices, \"op_type\"] = \"insert\"\n",
    "# print(f\"Changed {len(first_indices):,} first accesses to inserts\")"
   ]
  },
  {
   "cell_type": "code",
   "execution_count": 11,
   "id": "e9879e19",
   "metadata": {},
   "outputs": [
    {
     "name": "stdout",
     "output_type": "stream",
     "text": [
      "✅ Saved operations dataset: operations_en_sample_5.csv\n",
      "Contains 146,068 operations (1 per view), with 7,303 updates (5.00%)\n"
     ]
    }
   ],
   "source": [
    "ops.to_csv(\"operations_en_sample_5.csv\", index=False)\n",
    "print(\"✅ Saved operations dataset: operations_en_sample_5.csv\")\n",
    "print(f\"Contains {len(ops):,} operations (1 per view), with {n_updates:,} updates ({100*n_updates/n_ops:.2f}%)\")"
   ]
  },
  {
   "cell_type": "code",
   "execution_count": 12,
   "id": "f70d1725",
   "metadata": {},
   "outputs": [
    {
     "name": "stdout",
     "output_type": "stream",
     "text": [
      "40670\n"
     ]
    }
   ],
   "source": [
    "print((df_sample['views'] == 1).sum())"
   ]
  },
  {
   "cell_type": "code",
   "execution_count": 13,
   "id": "b45d9b78",
   "metadata": {},
   "outputs": [
    {
     "name": "stdout",
     "output_type": "stream",
     "text": [
      "Page title lengths - Avg: 20.54, Max: 236, Min: 1\n"
     ]
    }
   ],
   "source": [
    "# Compute string lengths\n",
    "lengths = df_sample[\"page_title\"].str.len()\n",
    "\n",
    "# Calculate stats\n",
    "avg_length = lengths.mean()\n",
    "max_length = lengths.max()\n",
    "min_length = lengths.min()\n",
    "print(f\"Page title lengths - Avg: {avg_length:.2f}, Max: {max_length}, Min: {min_length}\")"
   ]
  },
  {
   "cell_type": "code",
   "execution_count": 16,
   "id": "068dbaff",
   "metadata": {},
   "outputs": [
    {
     "name": "stdout",
     "output_type": "stream",
     "text": [
      "Unique titles updated: 5724\n",
      "['Graham_Greene_(actor)' 'Dave_Reichert' 'Logan_(film_character)' ...\n",
      " 'Cardinals_created_by_Benedict_XVI' 'Cross_of_Gold_speech'\n",
      " 'Adam_James_(actor)']\n"
     ]
    }
   ],
   "source": [
    "updated_titles = ops.loc[ops[\"op_type\"] == \"update\", \"page_title\"].unique()\n",
    "print(f\"Unique titles updated: {len(updated_titles)}\")\n",
    "print(updated_titles)"
   ]
  },
  {
   "cell_type": "code",
   "execution_count": 17,
   "id": "557af4f2",
   "metadata": {},
   "outputs": [
    {
     "name": "stdout",
     "output_type": "stream",
     "text": [
      "page_title\n",
      "Jon_Stewart                       132\n",
      "Talk:Digital_humanities            27\n",
      "Talk:Saint_Boniface                24\n",
      "Category:Redirects_from_moves      20\n",
      "New_Relic                          16\n",
      "                                 ... \n",
      "Einstürzende_Neubauten              1\n",
      "French_canadian_keyboard            1\n",
      "Jorge_Eduardo_Costilla_Sánchez      1\n",
      "Stictonetta                         1\n",
      "Adam_James_(actor)                  1\n",
      "Name: count, Length: 5724, dtype: int64\n"
     ]
    }
   ],
   "source": [
    "update_counts = ops[ops[\"op_type\"] == \"update\"][\"page_title\"].value_counts()\n",
    "print(update_counts)"
   ]
  },
  {
   "cell_type": "code",
   "execution_count": 18,
   "id": "ca927ca9",
   "metadata": {},
   "outputs": [
    {
     "name": "stdout",
     "output_type": "stream",
     "text": [
      "Number of page_titles with exactly one update: 4950\n"
     ]
    }
   ],
   "source": [
    "num_one_update = (update_counts == 1).sum()\n",
    "print(f\"Number of page_titles with exactly one update: {num_one_update}\")"
   ]
  },
  {
   "cell_type": "code",
   "execution_count": null,
   "id": "5bcb073b",
   "metadata": {},
   "outputs": [],
   "source": []
  }
 ],
 "metadata": {
  "kernelspec": {
   "display_name": "venv",
   "language": "python",
   "name": "python3"
  },
  "language_info": {
   "codemirror_mode": {
    "name": "ipython",
    "version": 3
   },
   "file_extension": ".py",
   "mimetype": "text/x-python",
   "name": "python",
   "nbconvert_exporter": "python",
   "pygments_lexer": "ipython3",
   "version": "3.13.7"
  }
 },
 "nbformat": 4,
 "nbformat_minor": 5
}
