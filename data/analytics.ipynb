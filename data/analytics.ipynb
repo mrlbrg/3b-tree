{
 "cells": [
  {
   "cell_type": "markdown",
   "metadata": {},
   "source": [
    "Connected to .venv (Python 3.13.7)"
   ]
  },
  {
   "cell_type": "code",
   "execution_count": 64,
   "id": "a63e50d1",
   "metadata": {},
   "outputs": [],
   "source": [
    "import pandas as pd\n",
    "import numpy as np"
   ]
  },
  {
   "cell_type": "code",
   "execution_count": 65,
   "id": "06bc2000",
   "metadata": {},
   "outputs": [
    {
     "name": "stdout",
     "output_type": "stream",
     "text": [
      "Total views: 16,115,693\n"
     ]
    }
   ],
   "source": [
    "filename = \"pageviews-hourly-20251001-000000.gz\"\n",
    "\n",
    "df = pd.read_csv(\n",
    "    filename,\n",
    "    sep=\" \",  # space-separated\n",
    "    header=None,  # no header in file\n",
    "    names=[\"project\", \"page_title\", \"views\", \"bytes\"],  # column names\n",
    "    dtype={\"project\": str, \"page_title\": str, \"views\": int, \"bytes\": int},\n",
    "    compression=\"gzip\",  # read directly from .gz\n",
    "    engine=\"c\",  # faster parsing\n",
    ")\n",
    "print(f\"Total views: {df['views'].sum():,}\")"
   ]
  },
  {
   "cell_type": "code",
   "execution_count": null,
   "id": "9b6125d6",
   "metadata": {},
   "outputs": [
    {
     "name": "stdout",
     "output_type": "stream",
     "text": [
      "Filtered to 1184804 English Wikipedia pages\n",
      "Total views: 3,092,228\n",
      "        RowNumber project                                         page_title  \\\n",
      "520115          1      en                                                 !!   \n",
      "520116          2      en                                                !!!   \n",
      "520117          3      en                                           !DOCTYPE   \n",
      "520118          4      en                                      !Xóõ_language   \n",
      "520119          5      en                                              \\&\\\"\"   \n",
      "520120          6      en                                  \\21_Azer\\\"_Medal\"   \n",
      "520121          7      en                                       \\A\\\"_Device\"   \n",
      "520122          8      en                                 \\A\\\"_Is_for_Alibi\"   \n",
      "520123          9      en  \\Air\\\"_from_Johann_Sebastian_Bach's_Orchestral...   \n",
      "520124         10      en                               \\Awaken,_My_Love!\\\"\"   \n",
      "\n",
      "        views  bytes  \n",
      "520115      1      0  \n",
      "520116      5      0  \n",
      "520117      1      0  \n",
      "520118      1      0  \n",
      "520119      1      0  \n",
      "520120      1      0  \n",
      "520121      1      0  \n",
      "520122      2      0  \n",
      "520123      1      0  \n",
      "520124      4      0  \n"
     ]
    }
   ],
   "source": [
    "# --- Step 1: Keep only English articles --------------------------------------\n",
    "df = df[df[\"project\"] == \"en\"]\n",
    "df.reset_index(drop=True)\n",
    "df.insert(0, \"row_number\", range(1, len(df) + 1))\n",
    "print(f\"Filtered to {len(df)} English Wikipedia pages\")\n",
    "print(f\"Total views: {df['views'].sum():,}\")\n",
    "print(df.head(10))"
   ]
  },
  {
   "cell_type": "code",
   "execution_count": 67,
   "id": "23ff32c4",
   "metadata": {},
   "outputs": [
    {
     "name": "stdout",
     "output_type": "stream",
     "text": [
      "✅ Saved English-only dataset: pageviews_en.csv\n"
     ]
    }
   ],
   "source": [
    "# Save filtered English dataset\n",
    "df.to_csv(\"pageviews_en.csv\", index=False)\n",
    "print(\"✅ Saved English-only dataset: pageviews_en.csv\")"
   ]
  },
  {
   "cell_type": "code",
   "execution_count": 68,
   "id": "9766d8ab",
   "metadata": {},
   "outputs": [
    {
     "name": "stdout",
     "output_type": "stream",
     "text": [
      "         RowNumber project                         page_title  views  bytes\n",
      "1069906     549792      en                        Jon_Stewart   2998      0\n",
      "1273067     752953      en                          New_Relic    279      0\n",
      "1073119     553005      en                      Josh_Hartnett    114      0\n",
      "1554339    1034225      en            The_Odyssey_(2026_film)    110      0\n",
      "1028735     508621      en           International_Coffee_Day     91      0\n",
      "...            ...     ...                                ...    ...    ...\n",
      "1058992     538878      en                               Jins      1      0\n",
      "697793      177679      en                    Builder's_plate      1      0\n",
      "671456      151342      en           Bill_and_Ben_(TV_series)      1      0\n",
      "1697308    1177194      en                      Zapata,_Texas      1      0\n",
      "1472791     952677      en  Spaulding_Rehabilitation_Hospital      1      0\n",
      "\n",
      "[11848 rows x 5 columns]\n",
      "Total views in sample: 30,806\n"
     ]
    }
   ],
   "source": [
    "# --- Step 2: Sample articles ---------------------------------\n",
    "sample_fraction = 0.01  # adjust as needed (e.g., 0.05 = 5%)\n",
    "df_sample = df.sample(frac=sample_fraction, random_state=42)\n",
    "df_sample.sort_values(by=\"views\", ascending=False, inplace=True)\n",
    "print(df_sample)\n",
    "print(f\"Total views in sample: {df_sample['views'].sum():,}\")"
   ]
  },
  {
   "cell_type": "code",
   "execution_count": 69,
   "id": "615f12b5",
   "metadata": {},
   "outputs": [],
   "source": [
    "df_sample.to_csv(\"pageviews_en_sample_1.csv\", index=False)"
   ]
  },
  {
   "cell_type": "code",
   "execution_count": null,
   "id": "218c88cf",
   "metadata": {},
   "outputs": [
    {
     "name": "stdout",
     "output_type": "stream",
     "text": [
      "Generated 30,806 total operations (1 per view)\n"
     ]
    }
   ],
   "source": [
    "# --- Step 4: Create one operation per view ------------------------------------\n",
    "# Efficiently repeat rows by the 'views' column\n",
    "ops = df_sample.loc[\n",
    "    df_sample.index.repeat(df_sample[\"views\"]), [\"row_number\", \"page_title\"]\n",
    "].reset_index(drop=True)\n",
    "print(f\"Generated {len(ops):,} total operations (1 per view)\")"
   ]
  },
  {
   "cell_type": "code",
   "execution_count": 71,
   "id": "c90ce76a",
   "metadata": {},
   "outputs": [
    {
     "name": "stdout",
     "output_type": "stream",
     "text": [
      "Assigned 1,540 updates (5.00%)\n"
     ]
    }
   ],
   "source": [
    "# --- Step 5: Randomly turn 5% of lookups into updates --------------------------\n",
    "n_ops = len(ops)\n",
    "n_updates = int(0.05 * n_ops)\n",
    "\n",
    "rng = np.random.default_rng(seed=42)\n",
    "update_indices = rng.choice(n_ops, size=n_updates, replace=False)\n",
    "\n",
    "ops[\"op_type\"] = \"lookup\"\n",
    "ops.loc[update_indices, \"op_type\"] = \"update\"\n",
    "print(f\"Assigned {n_updates:,} updates ({100*n_updates/n_ops:.2f}%)\")"
   ]
  },
  {
   "cell_type": "code",
   "execution_count": 72,
   "id": "7e7136aa",
   "metadata": {},
   "outputs": [
    {
     "data": {
      "text/html": [
       "<div>\n",
       "<style scoped>\n",
       "    .dataframe tbody tr th:only-of-type {\n",
       "        vertical-align: middle;\n",
       "    }\n",
       "\n",
       "    .dataframe tbody tr th {\n",
       "        vertical-align: top;\n",
       "    }\n",
       "\n",
       "    .dataframe thead th {\n",
       "        text-align: right;\n",
       "    }\n",
       "</style>\n",
       "<table border=\"1\" class=\"dataframe\">\n",
       "  <thead>\n",
       "    <tr style=\"text-align: right;\">\n",
       "      <th></th>\n",
       "      <th>RowNumber</th>\n",
       "      <th>page_title</th>\n",
       "      <th>op_type</th>\n",
       "    </tr>\n",
       "  </thead>\n",
       "  <tbody>\n",
       "    <tr>\n",
       "      <th>0</th>\n",
       "      <td>936725</td>\n",
       "      <td>Sinéad_Keenan</td>\n",
       "      <td>lookup</td>\n",
       "    </tr>\n",
       "    <tr>\n",
       "      <th>1</th>\n",
       "      <td>1074397</td>\n",
       "      <td>Twiggy_Ramirez</td>\n",
       "      <td>lookup</td>\n",
       "    </tr>\n",
       "    <tr>\n",
       "      <th>2</th>\n",
       "      <td>984779</td>\n",
       "      <td>Sóstenes_Cavalcante</td>\n",
       "      <td>lookup</td>\n",
       "    </tr>\n",
       "    <tr>\n",
       "      <th>3</th>\n",
       "      <td>844392</td>\n",
       "      <td>Pyeonghwa_Paso_900</td>\n",
       "      <td>lookup</td>\n",
       "    </tr>\n",
       "    <tr>\n",
       "      <th>4</th>\n",
       "      <td>255751</td>\n",
       "      <td>Cole_Tucker</td>\n",
       "      <td>lookup</td>\n",
       "    </tr>\n",
       "    <tr>\n",
       "      <th>...</th>\n",
       "      <td>...</td>\n",
       "      <td>...</td>\n",
       "      <td>...</td>\n",
       "    </tr>\n",
       "    <tr>\n",
       "      <th>30801</th>\n",
       "      <td>567314</td>\n",
       "      <td>Karuvaki</td>\n",
       "      <td>lookup</td>\n",
       "    </tr>\n",
       "    <tr>\n",
       "      <th>30802</th>\n",
       "      <td>405032</td>\n",
       "      <td>Freddie_Stroma</td>\n",
       "      <td>lookup</td>\n",
       "    </tr>\n",
       "    <tr>\n",
       "      <th>30803</th>\n",
       "      <td>549792</td>\n",
       "      <td>Jon_Stewart</td>\n",
       "      <td>lookup</td>\n",
       "    </tr>\n",
       "    <tr>\n",
       "      <th>30804</th>\n",
       "      <td>1131869</td>\n",
       "      <td>WFAA</td>\n",
       "      <td>lookup</td>\n",
       "    </tr>\n",
       "    <tr>\n",
       "      <th>30805</th>\n",
       "      <td>749414</td>\n",
       "      <td>Nene_Macdonald</td>\n",
       "      <td>lookup</td>\n",
       "    </tr>\n",
       "  </tbody>\n",
       "</table>\n",
       "<p>30806 rows × 3 columns</p>\n",
       "</div>"
      ],
      "text/plain": [
       "       RowNumber           page_title op_type\n",
       "0         936725        Sinéad_Keenan  lookup\n",
       "1        1074397       Twiggy_Ramirez  lookup\n",
       "2         984779  Sóstenes_Cavalcante  lookup\n",
       "3         844392   Pyeonghwa_Paso_900  lookup\n",
       "4         255751          Cole_Tucker  lookup\n",
       "...          ...                  ...     ...\n",
       "30801     567314             Karuvaki  lookup\n",
       "30802     405032       Freddie_Stroma  lookup\n",
       "30803     549792          Jon_Stewart  lookup\n",
       "30804    1131869                 WFAA  lookup\n",
       "30805     749414       Nene_Macdonald  lookup\n",
       "\n",
       "[30806 rows x 3 columns]"
      ]
     },
     "execution_count": 72,
     "metadata": {},
     "output_type": "execute_result"
    }
   ],
   "source": [
    "# --- Step 6: Shuffle operations -----------------------------------------------\n",
    "ops = ops.sample(frac=1, random_state=42).reset_index(drop=True)\n",
    "ops"
   ]
  },
  {
   "cell_type": "code",
   "execution_count": 73,
   "id": "1504456d",
   "metadata": {},
   "outputs": [],
   "source": [
    "# --- Step 7: Change first occurrence per page_title to insert -----------------\n",
    "# first_indices = ops.drop_duplicates(subset=\"page_title\", keep=\"first\").index\n",
    "# ops.loc[first_indices, \"op_type\"] = \"insert\"\n",
    "# print(f\"Changed {len(first_indices):,} first accesses to inserts\")"
   ]
  },
  {
   "cell_type": "code",
   "execution_count": 74,
   "id": "e9879e19",
   "metadata": {},
   "outputs": [
    {
     "name": "stdout",
     "output_type": "stream",
     "text": [
      "✅ Saved operations dataset: operations_en_sample_1.csv\n",
      "Contains 30,806 operations (1 per view), with 1,540 updates (5.00%)\n"
     ]
    }
   ],
   "source": [
    "ops.to_csv(\"operations_en_sample_1.csv\", index=False)\n",
    "print(\"✅ Saved operations dataset: operations_en_sample_1.csv\")\n",
    "print(f\"Contains {len(ops):,} operations (1 per view), with {n_updates:,} updates ({100*n_updates/n_ops:.2f}%)\")"
   ]
  },
  {
   "cell_type": "code",
   "execution_count": 79,
   "id": "f70d1725",
   "metadata": {},
   "outputs": [
    {
     "name": "stdout",
     "output_type": "stream",
     "text": [
      "8175\n"
     ]
    }
   ],
   "source": [
    "print((df_sample['views'] == 1).sum())"
   ]
  },
  {
   "cell_type": "code",
   "execution_count": 82,
   "id": "b45d9b78",
   "metadata": {},
   "outputs": [
    {
     "name": "stdout",
     "output_type": "stream",
     "text": [
      "Page title lengths - Avg: 20.50, Max: 168, Min: 1\n"
     ]
    }
   ],
   "source": [
    "# Compute string lengths\n",
    "lengths = df_sample[\"page_title\"].str.len()\n",
    "\n",
    "# Calculate stats\n",
    "avg_length = lengths.mean()\n",
    "max_length = lengths.max()\n",
    "min_length = lengths.min()\n",
    "print(f\"Page title lengths - Avg: {avg_length:.2f}, Max: {max_length}, Min: {min_length}\")"
   ]
  },
  {
   "cell_type": "code",
   "execution_count": null,
   "id": "068dbaff",
   "metadata": {},
   "outputs": [],
   "source": []
  }
 ],
 "metadata": {
  "kernelspec": {
   "display_name": "venv",
   "language": "python",
   "name": "python3"
  },
  "language_info": {
   "codemirror_mode": {
    "name": "ipython",
    "version": 3
   },
   "file_extension": ".py",
   "mimetype": "text/x-python",
   "name": "python",
   "nbconvert_exporter": "python",
   "pygments_lexer": "ipython3",
   "version": "3.13.7"
  }
 },
 "nbformat": 4,
 "nbformat_minor": 5
}
