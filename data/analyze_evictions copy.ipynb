{
 "cells": [
  {
   "cell_type": "code",
   "execution_count": 2,
   "id": "67a136ff",
   "metadata": {},
   "outputs": [],
   "source": [
    "import pandas as pd"
   ]
  },
  {
   "cell_type": "code",
   "execution_count": null,
   "id": "e928eb5d",
   "metadata": {},
   "outputs": [
    {
     "name": "stdout",
     "output_type": "stream",
     "text": [
      "       write_threshold  degree_of_change  page_id  forced_out\n",
      "0                100.0         71.166992      216           1\n",
      "1                100.0        233.593750       26           1\n",
      "2                100.0        170.336914        3           1\n",
      "3                100.0        222.949219       21           1\n",
      "4                100.0         73.486328      193           1\n",
      "...                ...               ...      ...         ...\n",
      "18515            100.0          4.931641      124           0\n",
      "18516            100.0          0.756836      818           0\n",
      "18517            100.0          0.878906      822           0\n",
      "18518            100.0          6.616211      515           0\n",
      "18519            100.0         51.220703      159           0\n",
      "\n",
      "[18520 rows x 4 columns]\n"
     ]
    }
   ],
   "source": [
    "# Load trace from file\n",
    "df = pd.read_csv(\"page_eviction_trace_inserts_5.csv\")\n",
    "print(df)"
   ]
  },
  {
   "cell_type": "code",
   "execution_count": 4,
   "id": "095df171",
   "metadata": {},
   "outputs": [
    {
     "data": {
      "text/plain": [
       "write_threshold     100.000000\n",
       "degree_of_change     10.920808\n",
       "page_id             304.880508\n",
       "forced_out            0.250000\n",
       "dtype: float64"
      ]
     },
     "execution_count": 4,
     "metadata": {},
     "output_type": "execute_result"
    }
   ],
   "source": [
    "df.mean()"
   ]
  },
  {
   "cell_type": "code",
   "execution_count": 5,
   "id": "805d4e07",
   "metadata": {},
   "outputs": [
    {
     "data": {
      "text/plain": [
       "write_threshold     100.0000\n",
       "degree_of_change    570.3125\n",
       "page_id             839.0000\n",
       "forced_out            1.0000\n",
       "dtype: float64"
      ]
     },
     "execution_count": 5,
     "metadata": {},
     "output_type": "execute_result"
    }
   ],
   "source": [
    "df.max()"
   ]
  },
  {
   "cell_type": "code",
   "execution_count": 6,
   "id": "5085a577",
   "metadata": {},
   "outputs": [
    {
     "data": {
      "text/plain": [
       "write_threshold     100.000000\n",
       "degree_of_change      0.439453\n",
       "page_id               1.000000\n",
       "forced_out            0.000000\n",
       "dtype: float64"
      ]
     },
     "execution_count": 6,
     "metadata": {},
     "output_type": "execute_result"
    }
   ],
   "source": [
    "df.min()"
   ]
  },
  {
   "cell_type": "code",
   "execution_count": 9,
   "id": "66dba36f",
   "metadata": {},
   "outputs": [
    {
     "name": "stdout",
     "output_type": "stream",
     "text": [
      "bin\n",
      "0-5       9296\n",
      "5-10      4235\n",
      "10-15     1948\n",
      "15-20      904\n",
      "20-25      455\n",
      "25-30      188\n",
      "30-35      184\n",
      "35-40      109\n",
      "40-45       33\n",
      "45-50      217\n",
      "50-55      416\n",
      "55-60      173\n",
      "60-65       72\n",
      "65-70       26\n",
      "70-75       31\n",
      "75-80       28\n",
      "80-85       12\n",
      "85-90        8\n",
      "90-95       10\n",
      "95-100      11\n",
      ">=100      163\n",
      "Name: count, dtype: int64\n"
     ]
    }
   ],
   "source": [
    "# Calculate how many pages had a certain degree of change at their eviction\n",
    "# Filter to rows where forced_out == 0\n",
    "df_no_forced = df[df[\"forced_out\"] == 0]\n",
    "\n",
    "bins = list(range(0, 101, 5)) + [500]\n",
    "labels = [f\"{i}-{i+5}\" for i in range(0, 100, 5)] + [\">=100\"]\n",
    "df[\"bin\"] = pd.cut(\n",
    "    df[\"degree_of_change\"],\n",
    "    bins=bins,\n",
    "    labels=labels,\n",
    "    right=False,\n",
    "    include_lowest=True,\n",
    ")\n",
    "print(df[\"bin\"].value_counts().sort_index())"
   ]
  },
  {
   "cell_type": "code",
   "execution_count": 24,
   "id": "3c274714",
   "metadata": {},
   "outputs": [
    {
     "data": {
      "text/html": [
       "<div>\n",
       "<style scoped>\n",
       "    .dataframe tbody tr th:only-of-type {\n",
       "        vertical-align: middle;\n",
       "    }\n",
       "\n",
       "    .dataframe tbody tr th {\n",
       "        vertical-align: top;\n",
       "    }\n",
       "\n",
       "    .dataframe thead th {\n",
       "        text-align: right;\n",
       "    }\n",
       "</style>\n",
       "<table border=\"1\" class=\"dataframe\">\n",
       "  <thead>\n",
       "    <tr style=\"text-align: right;\">\n",
       "      <th></th>\n",
       "      <th>write_threshold</th>\n",
       "      <th>degree_of_change</th>\n",
       "      <th>page_id</th>\n",
       "      <th>forced_out</th>\n",
       "    </tr>\n",
       "  </thead>\n",
       "  <tbody>\n",
       "    <tr>\n",
       "      <th>count</th>\n",
       "      <td>1016.0</td>\n",
       "      <td>1016.000000</td>\n",
       "      <td>1016.000000</td>\n",
       "      <td>1016.0</td>\n",
       "    </tr>\n",
       "    <tr>\n",
       "      <th>mean</th>\n",
       "      <td>100.0</td>\n",
       "      <td>6.993476</td>\n",
       "      <td>285.381890</td>\n",
       "      <td>0.0</td>\n",
       "    </tr>\n",
       "    <tr>\n",
       "      <th>std</th>\n",
       "      <td>0.0</td>\n",
       "      <td>10.647089</td>\n",
       "      <td>164.604149</td>\n",
       "      <td>0.0</td>\n",
       "    </tr>\n",
       "    <tr>\n",
       "      <th>min</th>\n",
       "      <td>100.0</td>\n",
       "      <td>0.683594</td>\n",
       "      <td>2.000000</td>\n",
       "      <td>0.0</td>\n",
       "    </tr>\n",
       "    <tr>\n",
       "      <th>25%</th>\n",
       "      <td>100.0</td>\n",
       "      <td>2.050781</td>\n",
       "      <td>144.000000</td>\n",
       "      <td>0.0</td>\n",
       "    </tr>\n",
       "    <tr>\n",
       "      <th>50%</th>\n",
       "      <td>100.0</td>\n",
       "      <td>4.101562</td>\n",
       "      <td>290.500000</td>\n",
       "      <td>0.0</td>\n",
       "    </tr>\n",
       "    <tr>\n",
       "      <th>75%</th>\n",
       "      <td>100.0</td>\n",
       "      <td>7.519531</td>\n",
       "      <td>420.250000</td>\n",
       "      <td>0.0</td>\n",
       "    </tr>\n",
       "    <tr>\n",
       "      <th>max</th>\n",
       "      <td>100.0</td>\n",
       "      <td>60.156250</td>\n",
       "      <td>602.000000</td>\n",
       "      <td>0.0</td>\n",
       "    </tr>\n",
       "  </tbody>\n",
       "</table>\n",
       "</div>"
      ],
      "text/plain": [
       "       write_threshold  degree_of_change      page_id  forced_out\n",
       "count           1016.0       1016.000000  1016.000000      1016.0\n",
       "mean             100.0          6.993476   285.381890         0.0\n",
       "std                0.0         10.647089   164.604149         0.0\n",
       "min              100.0          0.683594     2.000000         0.0\n",
       "25%              100.0          2.050781   144.000000         0.0\n",
       "50%              100.0          4.101562   290.500000         0.0\n",
       "75%              100.0          7.519531   420.250000         0.0\n",
       "max              100.0         60.156250   602.000000         0.0"
      ]
     },
     "execution_count": 24,
     "metadata": {},
     "output_type": "execute_result"
    }
   ],
   "source": [
    "df_no_forced.describe()"
   ]
  },
  {
   "cell_type": "code",
   "execution_count": 21,
   "id": "b3a6898a",
   "metadata": {},
   "outputs": [
    {
     "data": {
      "text/plain": [
       "page_id\n",
       "113    6\n",
       "160    6\n",
       "426    6\n",
       "433    5\n",
       "418    5\n",
       "      ..\n",
       "357    1\n",
       "423    1\n",
       "279    1\n",
       "392    1\n",
       "578    1\n",
       "Name: count, Length: 519, dtype: int64"
      ]
     },
     "execution_count": 21,
     "metadata": {},
     "output_type": "execute_result"
    }
   ],
   "source": [
    "# How many times each page was evicted\n",
    "df_no_forced[\"page_id\"].value_counts()"
   ]
  },
  {
   "cell_type": "code",
   "execution_count": 12,
   "id": "7c391d61",
   "metadata": {},
   "outputs": [
    {
     "data": {
      "text/html": [
       "<div>\n",
       "<style scoped>\n",
       "    .dataframe tbody tr th:only-of-type {\n",
       "        vertical-align: middle;\n",
       "    }\n",
       "\n",
       "    .dataframe tbody tr th {\n",
       "        vertical-align: top;\n",
       "    }\n",
       "\n",
       "    .dataframe thead th {\n",
       "        text-align: right;\n",
       "    }\n",
       "</style>\n",
       "<table border=\"1\" class=\"dataframe\">\n",
       "  <thead>\n",
       "    <tr style=\"text-align: right;\">\n",
       "      <th></th>\n",
       "      <th>write_threshold</th>\n",
       "      <th>degree_of_change</th>\n",
       "      <th>page_id</th>\n",
       "      <th>forced_out</th>\n",
       "      <th>bin</th>\n",
       "    </tr>\n",
       "  </thead>\n",
       "  <tbody>\n",
       "    <tr>\n",
       "      <th>4</th>\n",
       "      <td>100.0</td>\n",
       "      <td>59.472656</td>\n",
       "      <td>426</td>\n",
       "      <td>1</td>\n",
       "      <td>50-60</td>\n",
       "    </tr>\n",
       "    <tr>\n",
       "      <th>162</th>\n",
       "      <td>100.0</td>\n",
       "      <td>4.101562</td>\n",
       "      <td>426</td>\n",
       "      <td>0</td>\n",
       "      <td>0-10</td>\n",
       "    </tr>\n",
       "    <tr>\n",
       "      <th>305</th>\n",
       "      <td>100.0</td>\n",
       "      <td>5.468750</td>\n",
       "      <td>426</td>\n",
       "      <td>0</td>\n",
       "      <td>0-10</td>\n",
       "    </tr>\n",
       "    <tr>\n",
       "      <th>477</th>\n",
       "      <td>100.0</td>\n",
       "      <td>6.835938</td>\n",
       "      <td>426</td>\n",
       "      <td>0</td>\n",
       "      <td>0-10</td>\n",
       "    </tr>\n",
       "    <tr>\n",
       "      <th>592</th>\n",
       "      <td>100.0</td>\n",
       "      <td>7.519531</td>\n",
       "      <td>426</td>\n",
       "      <td>0</td>\n",
       "      <td>0-10</td>\n",
       "    </tr>\n",
       "    <tr>\n",
       "      <th>978</th>\n",
       "      <td>100.0</td>\n",
       "      <td>8.886719</td>\n",
       "      <td>426</td>\n",
       "      <td>0</td>\n",
       "      <td>0-10</td>\n",
       "    </tr>\n",
       "    <tr>\n",
       "      <th>1233</th>\n",
       "      <td>100.0</td>\n",
       "      <td>10.937500</td>\n",
       "      <td>426</td>\n",
       "      <td>0</td>\n",
       "      <td>10-20</td>\n",
       "    </tr>\n",
       "  </tbody>\n",
       "</table>\n",
       "</div>"
      ],
      "text/plain": [
       "      write_threshold  degree_of_change  page_id  forced_out    bin\n",
       "4               100.0         59.472656      426           1  50-60\n",
       "162             100.0          4.101562      426           0   0-10\n",
       "305             100.0          5.468750      426           0   0-10\n",
       "477             100.0          6.835938      426           0   0-10\n",
       "592             100.0          7.519531      426           0   0-10\n",
       "978             100.0          8.886719      426           0   0-10\n",
       "1233            100.0         10.937500      426           0  10-20"
      ]
     },
     "metadata": {},
     "output_type": "display_data"
    }
   ],
   "source": [
    "# Show all rows where page_id == 299, preserving original order\n",
    "rows_299 = df[df[\"page_id\"] == 426]\n",
    "display(rows_299.head(30))"
   ]
  },
  {
   "cell_type": "code",
   "execution_count": 16,
   "id": "92b9a31c",
   "metadata": {},
   "outputs": [
    {
     "name": "stdout",
     "output_type": "stream",
     "text": [
      "Pages that never had forced_out == 'true': []\n",
      "Count: 0\n"
     ]
    }
   ],
   "source": [
    "# Find page_ids that never have forced_out == \"true\" in any row (string version)\n",
    "pages_never_forced_str = df.groupby(\"page_id\")['forced_out'].apply(lambda x: not (x == 1).any())\n",
    "pages_without_forced_str = pages_never_forced_str[pages_never_forced_str].index.tolist()\n",
    "print(f\"Pages that never had forced_out == 'true': {pages_without_forced_str}\")\n",
    "print(f\"Count: {len(pages_without_forced_str)}\")"
   ]
  },
  {
   "cell_type": "code",
   "execution_count": 19,
   "id": "affb4151",
   "metadata": {},
   "outputs": [
    {
     "data": {
      "text/html": [
       "<div>\n",
       "<style scoped>\n",
       "    .dataframe tbody tr th:only-of-type {\n",
       "        vertical-align: middle;\n",
       "    }\n",
       "\n",
       "    .dataframe tbody tr th {\n",
       "        vertical-align: top;\n",
       "    }\n",
       "\n",
       "    .dataframe thead th {\n",
       "        text-align: right;\n",
       "    }\n",
       "</style>\n",
       "<table border=\"1\" class=\"dataframe\">\n",
       "  <thead>\n",
       "    <tr style=\"text-align: right;\">\n",
       "      <th></th>\n",
       "      <th>write_threshold</th>\n",
       "      <th>degree_of_change</th>\n",
       "      <th>page_id</th>\n",
       "      <th>forced_out</th>\n",
       "      <th>bin</th>\n",
       "    </tr>\n",
       "  </thead>\n",
       "  <tbody>\n",
       "    <tr>\n",
       "      <th>0</th>\n",
       "      <td>100.0</td>\n",
       "      <td>200.292969</td>\n",
       "      <td>55</td>\n",
       "      <td>1</td>\n",
       "      <td>&gt;=100</td>\n",
       "    </tr>\n",
       "    <tr>\n",
       "      <th>1</th>\n",
       "      <td>100.0</td>\n",
       "      <td>103.906250</td>\n",
       "      <td>187</td>\n",
       "      <td>1</td>\n",
       "      <td>&gt;=100</td>\n",
       "    </tr>\n",
       "    <tr>\n",
       "      <th>2</th>\n",
       "      <td>100.0</td>\n",
       "      <td>111.425781</td>\n",
       "      <td>306</td>\n",
       "      <td>1</td>\n",
       "      <td>&gt;=100</td>\n",
       "    </tr>\n",
       "    <tr>\n",
       "      <th>3</th>\n",
       "      <td>100.0</td>\n",
       "      <td>153.125000</td>\n",
       "      <td>96</td>\n",
       "      <td>1</td>\n",
       "      <td>&gt;=100</td>\n",
       "    </tr>\n",
       "    <tr>\n",
       "      <th>4</th>\n",
       "      <td>100.0</td>\n",
       "      <td>59.472656</td>\n",
       "      <td>426</td>\n",
       "      <td>1</td>\n",
       "      <td>50-60</td>\n",
       "    </tr>\n",
       "    <tr>\n",
       "      <th>...</th>\n",
       "      <td>...</td>\n",
       "      <td>...</td>\n",
       "      <td>...</td>\n",
       "      <td>...</td>\n",
       "      <td>...</td>\n",
       "    </tr>\n",
       "    <tr>\n",
       "      <th>1632</th>\n",
       "      <td>100.0</td>\n",
       "      <td>258.398438</td>\n",
       "      <td>20</td>\n",
       "      <td>1</td>\n",
       "      <td>&gt;=100</td>\n",
       "    </tr>\n",
       "    <tr>\n",
       "      <th>1642</th>\n",
       "      <td>100.0</td>\n",
       "      <td>185.742188</td>\n",
       "      <td>3</td>\n",
       "      <td>1</td>\n",
       "      <td>&gt;=100</td>\n",
       "    </tr>\n",
       "    <tr>\n",
       "      <th>1644</th>\n",
       "      <td>100.0</td>\n",
       "      <td>57.421875</td>\n",
       "      <td>505</td>\n",
       "      <td>1</td>\n",
       "      <td>50-60</td>\n",
       "    </tr>\n",
       "    <tr>\n",
       "      <th>1646</th>\n",
       "      <td>100.0</td>\n",
       "      <td>572.851562</td>\n",
       "      <td>1</td>\n",
       "      <td>1</td>\n",
       "      <td>NaN</td>\n",
       "    </tr>\n",
       "    <tr>\n",
       "      <th>1647</th>\n",
       "      <td>100.0</td>\n",
       "      <td>58.789062</td>\n",
       "      <td>503</td>\n",
       "      <td>1</td>\n",
       "      <td>50-60</td>\n",
       "    </tr>\n",
       "  </tbody>\n",
       "</table>\n",
       "<p>633 rows × 5 columns</p>\n",
       "</div>"
      ],
      "text/plain": [
       "      write_threshold  degree_of_change  page_id  forced_out    bin\n",
       "0               100.0        200.292969       55           1  >=100\n",
       "1               100.0        103.906250      187           1  >=100\n",
       "2               100.0        111.425781      306           1  >=100\n",
       "3               100.0        153.125000       96           1  >=100\n",
       "4               100.0         59.472656      426           1  50-60\n",
       "...               ...               ...      ...         ...    ...\n",
       "1632            100.0        258.398438       20           1  >=100\n",
       "1642            100.0        185.742188        3           1  >=100\n",
       "1644            100.0         57.421875      505           1  50-60\n",
       "1646            100.0        572.851562        1           1    NaN\n",
       "1647            100.0         58.789062      503           1  50-60\n",
       "\n",
       "[633 rows x 5 columns]"
      ]
     },
     "metadata": {},
     "output_type": "display_data"
    }
   ],
   "source": [
    "# Show all rows where forced_out == \"true\" (string)\n",
    "rows_forced_out = df[df[\"forced_out\"] == 1]\n",
    "display(rows_forced_out)"
   ]
  },
  {
   "cell_type": "code",
   "execution_count": null,
   "id": "4edee885",
   "metadata": {},
   "outputs": [],
   "source": []
  }
 ],
 "metadata": {
  "kernelspec": {
   "display_name": "venv",
   "language": "python",
   "name": "python3"
  },
  "language_info": {
   "codemirror_mode": {
    "name": "ipython",
    "version": 3
   },
   "file_extension": ".py",
   "mimetype": "text/x-python",
   "name": "python",
   "nbconvert_exporter": "python",
   "pygments_lexer": "ipython3",
   "version": "3.13.7"
  }
 },
 "nbformat": 4,
 "nbformat_minor": 5
}
